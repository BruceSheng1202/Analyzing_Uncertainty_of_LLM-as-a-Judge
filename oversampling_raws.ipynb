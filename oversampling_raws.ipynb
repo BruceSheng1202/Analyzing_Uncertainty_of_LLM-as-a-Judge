{
 "cells": [
  {
   "cell_type": "code",
   "execution_count": 1,
   "id": "24ab97d9",
   "metadata": {},
   "outputs": [],
   "source": [
    "import os\n",
    "import json\n",
    "import re\n",
    "from collections import Counter\n",
    "import pandas as pd\n",
    "\n",
    "def extract_score(text):\n",
    "    matches = re.findall(r'\\\"overall quality\\\":\\s*([1-5])', text)\n",
    "    if matches:\n",
    "        return int(matches[-1])  \n",
    "    return None\n",
    "\n",
    "def majority_vote(scores):\n",
    "    if not scores:\n",
    "        return None\n",
    "    return Counter(scores).most_common(1)[0][0]\n",
    "\n",
    "def process_file(dimension):\n",
    "    file_path = f\"./Reasoning_tmp1_{dimension}_overall_gpt-4o-mini-2024-07-18_0105.jsonl_DeepSeek-R1-Distill-Qwen-32B_oversampling.json\"\n",
    "    \n",
    "    with open(file_path, 'r', encoding='utf-8') as f:\n",
    "        data = json.load(f)\n",
    "\n",
    "    results = []\n",
    "    for item in data:\n",
    "        votes = []\n",
    "        for resp in item.get(\"judge_responses\", []):\n",
    "            print(f\"Processing response: {resp}\")\n",
    "            score = extract_score(resp)\n",
    "            if score is not None:\n",
    "                votes.append(score)\n",
    "            print(f\"Extracted score: {score}\")\n",
    "        mv = majority_vote(votes)\n",
    "        results.append(mv)\n",
    "\n",
    "    return results\n"
   ]
  },
  {
   "cell_type": "code",
   "execution_count": null,
   "id": "1a61eb96",
   "metadata": {},
   "outputs": [],
   "source": [
    "cosmos_results = process_file(\"cosmos\")"
   ]
  },
  {
   "cell_type": "code",
   "execution_count": null,
   "id": "aeddef19",
   "metadata": {},
   "outputs": [],
   "source": [
    "drop_results   = process_file(\"drop\")"
   ]
  },
  {
   "cell_type": "code",
   "execution_count": null,
   "id": "c0fa2494",
   "metadata": {},
   "outputs": [],
   "source": [
    "esnli_results  = process_file(\"esnli\")"
   ]
  },
  {
   "cell_type": "code",
   "execution_count": null,
   "id": "3907d2f5",
   "metadata": {},
   "outputs": [],
   "source": [
    "gsm8k_results  = process_file(\"gsm8k\")"
   ]
  },
  {
   "cell_type": "code",
   "execution_count": 6,
   "id": "ce478b24",
   "metadata": {},
   "outputs": [
    {
     "data": {
      "text/plain": [
       "[2,\n",
       " 5,\n",
       " 5,\n",
       " 1,\n",
       " 2,\n",
       " 3,\n",
       " 5,\n",
       " 5,\n",
       " 2,\n",
       " 5,\n",
       " 5,\n",
       " 2,\n",
       " 5,\n",
       " 5,\n",
       " 2,\n",
       " 3,\n",
       " 2,\n",
       " 2,\n",
       " 5,\n",
       " 2,\n",
       " 5,\n",
       " 5,\n",
       " 5,\n",
       " 5,\n",
       " 5,\n",
       " 2,\n",
       " 5,\n",
       " 5,\n",
       " 5,\n",
       " 5,\n",
       " 5,\n",
       " 5,\n",
       " 5,\n",
       " 2,\n",
       " 5,\n",
       " 5,\n",
       " 5,\n",
       " 5,\n",
       " 3,\n",
       " 5,\n",
       " 2,\n",
       " 5,\n",
       " 5,\n",
       " 5,\n",
       " 5,\n",
       " 5,\n",
       " 5,\n",
       " 3,\n",
       " 5,\n",
       " 5,\n",
       " 2,\n",
       " 5,\n",
       " 3,\n",
       " 5,\n",
       " 5,\n",
       " 2,\n",
       " 3,\n",
       " 5,\n",
       " 2,\n",
       " 5,\n",
       " 2,\n",
       " 2,\n",
       " 5,\n",
       " 3,\n",
       " 5,\n",
       " 5,\n",
       " 5,\n",
       " 5,\n",
       " 1,\n",
       " 2,\n",
       " 2,\n",
       " 5,\n",
       " 3,\n",
       " 2,\n",
       " 5,\n",
       " 2,\n",
       " 2,\n",
       " 5,\n",
       " 5,\n",
       " 2,\n",
       " 2,\n",
       " 5,\n",
       " 5,\n",
       " 5,\n",
       " 5,\n",
       " 2,\n",
       " 2,\n",
       " 5,\n",
       " 2,\n",
       " 5,\n",
       " 5,\n",
       " 2,\n",
       " 5,\n",
       " 2,\n",
       " 5,\n",
       " 2,\n",
       " 5,\n",
       " 5,\n",
       " 5,\n",
       " 2]"
      ]
     },
     "execution_count": 6,
     "metadata": {},
     "output_type": "execute_result"
    }
   ],
   "source": [
    "gsm8k_results\n",
    "\n"
   ]
  },
  {
   "cell_type": "code",
   "execution_count": null,
   "id": "c0f65a5a",
   "metadata": {},
   "outputs": [],
   "source": []
  },
  {
   "cell_type": "code",
   "execution_count": 7,
   "id": "d146b15a",
   "metadata": {},
   "outputs": [],
   "source": [
    "import numpy as np\n",
    "import scipy.stats as stats\n",
    "\n",
    "def calculate_performance(y_pred, y_test):\n",
    "    if np.isnan(y_pred).any() or np.isnan(y_test).any():\n",
    "        mask = ~np.isnan(y_pred) & ~np.isnan(y_test)\n",
    "        y_pred = y_pred[mask]\n",
    "        y_test = y_test[mask]\n",
    "    mse = np.mean((y_pred - y_test) ** 2)\n",
    "    rmse = np.sqrt(mse)\n",
    "    mae = np.mean(np.abs(y_pred - y_test))\n",
    "\n",
    "    rho = stats.spearmanr(y_pred, y_test)[0]\n",
    "    tau = stats.kendalltau(y_pred, y_test)[0]\n",
    "    pcc = stats.pearsonr(y_pred, y_test)[0]\n",
    "    return mse, rmse, mae, rho, tau, pcc\n",
    "\n"
   ]
  },
  {
   "cell_type": "code",
   "execution_count": 8,
   "id": "0f158e17",
   "metadata": {},
   "outputs": [
    {
     "data": {
      "text/plain": [
       "(0.91,\n",
       " 0.9539392014169457,\n",
       " 0.45,\n",
       " 0.8175391526792112,\n",
       " 0.7485471436762252,\n",
       " 0.8375390263960066)"
      ]
     },
     "execution_count": 8,
     "metadata": {},
     "output_type": "execute_result"
    }
   ],
   "source": [
    "label =pd.read_csv(\"R2CCP_SocREval_gsm8k_30.csv\")\n",
    "y_test = label[\"y_test\"].to_numpy()\n",
    "calculate_performance(gsm8k_results, y_test)"
   ]
  },
  {
   "cell_type": "code",
   "execution_count": 9,
   "id": "2291461d",
   "metadata": {},
   "outputs": [
    {
     "data": {
      "text/plain": [
       "(2.061224489795918,\n",
       " 1.4356965173029843,\n",
       " 1.1428571428571428,\n",
       " 0.45382868713319746,\n",
       " 0.3897353856568439,\n",
       " 0.4553244579385748)"
      ]
     },
     "execution_count": 9,
     "metadata": {},
     "output_type": "execute_result"
    }
   ],
   "source": [
    "label =pd.read_csv(\"R2CCP_SocREval_cosmos_1.csv\")\n",
    "y_test = label[\"y_test\"].to_numpy()\n",
    "calculate_performance(cosmos_results, y_test)"
   ]
  },
  {
   "cell_type": "code",
   "execution_count": 10,
   "id": "f60aa3a5",
   "metadata": {},
   "outputs": [
    {
     "data": {
      "text/plain": [
       "(1.161904761904762,\n",
       " 1.0779168622415933,\n",
       " 0.7238095238095238,\n",
       " 0.6365563560776474,\n",
       " 0.5833159927658976,\n",
       " 0.7153296923113484)"
      ]
     },
     "execution_count": 10,
     "metadata": {},
     "output_type": "execute_result"
    }
   ],
   "source": [
    "label =pd.read_csv(\"R2CCP_SocREval_drop_18.csv\")\n",
    "y_test = label[\"y_test\"].to_numpy()\n",
    "calculate_performance(drop_results, y_test)"
   ]
  },
  {
   "cell_type": "code",
   "execution_count": 11,
   "id": "dbc19810",
   "metadata": {},
   "outputs": [
    {
     "data": {
      "text/plain": [
       "(0.7631578947368421,\n",
       " 0.8735890880367281,\n",
       " 0.631578947368421,\n",
       " 0.5484920190595154,\n",
       " 0.5033632903358916,\n",
       " 0.5589556903475104)"
      ]
     },
     "execution_count": 11,
     "metadata": {},
     "output_type": "execute_result"
    }
   ],
   "source": [
    "label =pd.read_csv(\"R2CCP_SocREval_esnli_9.csv\")\n",
    "y_test = label[\"y_test\"].to_numpy()\n",
    "calculate_performance(esnli_results, y_test)"
   ]
  }
 ],
 "metadata": {
  "kernelspec": {
   "display_name": "Python 3",
   "language": "python",
   "name": "python3"
  },
  "language_info": {
   "codemirror_mode": {
    "name": "ipython",
    "version": 3
   },
   "file_extension": ".py",
   "mimetype": "text/x-python",
   "name": "python",
   "nbconvert_exporter": "python",
   "pygments_lexer": "ipython3",
   "version": "3.11.9"
  }
 },
 "nbformat": 4,
 "nbformat_minor": 5
}
