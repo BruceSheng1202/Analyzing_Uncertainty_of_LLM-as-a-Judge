{
 "cells": [
  {
   "cell_type": "code",
   "execution_count": 1,
   "metadata": {},
   "outputs": [
    {
     "name": "stdout",
     "output_type": "stream",
     "text": [
      "c:\\Users\\huanx\\python\\LLMCP\\chr\n"
     ]
    },
    {
     "name": "stderr",
     "output_type": "stream",
     "text": [
      "C:\\Users\\huanx\\AppData\\Local\\Packages\\PythonSoftwareFoundation.Python.3.11_qbz5n2kfra8p0\\LocalCache\\local-packages\\Python311\\site-packages\\IPython\\core\\magics\\osm.py:417: UserWarning: This is now an optional IPython functionality, setting dhist requires you to install the `pickleshare` library.\n",
      "  self.shell.db['dhist'] = compress_dhist(dhist)[-100:]\n"
     ]
    },
    {
     "name": "stdout",
     "output_type": "stream",
     "text": [
      "Is CUDA available? True\n"
     ]
    },
    {
     "name": "stderr",
     "output_type": "stream",
     "text": [
      "C:\\Users\\huanx\\AppData\\Local\\Temp\\ipykernel_50768\\3650739802.py:29: TqdmWarning: IProgress not found. Please update jupyter and ipywidgets. See https://ipywidgets.readthedocs.io/en/stable/user_install.html\n",
      "  from tqdm.autonotebook import tqdm\n"
     ]
    }
   ],
   "source": [
    "word_to_number = {\n",
    "    'one': 1,\n",
    "    'two': 2,\n",
    "    'three': 3,\n",
    "    'four': 4,\n",
    "    'five': 5\n",
    "}\n",
    "\n",
    "alpha = 0.10\n",
    "\n",
    "# !git clone https://github.com/msesia/chr.git\n",
    "%cd ../chr\n",
    "\n",
    "import os\n",
    "import sys\n",
    "import pdb\n",
    "import torch\n",
    "\n",
    "print(\"Is CUDA available? {}\".format(torch.cuda.is_available()))\n",
    "\n",
    "%load_ext autoreload\n",
    "%autoreload 2\n",
    "\n",
    "import pandas as pd\n",
    "import seaborn as sns\n",
    "import matplotlib.pyplot as plt\n",
    "%matplotlib inline\n",
    "%config InlineBackend.figure_format = 'svg'\n",
    "from tqdm.autonotebook import tqdm\n",
    "from sklearn.model_selection import train_test_split\n",
    "\n",
    "sys.path.insert(0, '..')\n",
    "\n",
    "#Edit the black_boxes.py: 'import torch.tensor as tensor' → 'from torch import tensor'\n",
    "#Edit the black_boxes.py: 'from skgarden import RandomForestQuantileRegressor' → 'from sklearn.linear_model import QuantileRegressor'"
   ]
  },
  {
   "cell_type": "code",
   "execution_count": 2,
   "metadata": {},
   "outputs": [],
   "source": [
    "import time\n",
    "import tracemalloc"
   ]
  },
  {
   "cell_type": "code",
   "execution_count": 7,
   "metadata": {},
   "outputs": [],
   "source": [
    "import json\n",
    "import pandas as pd\n",
    "import math\n",
    "import numpy as np\n",
    "import os\n",
    "import random\n",
    "# !pip install rpy2\n",
    "from chr.black_boxes import QNet\n",
    "from chr.histogram import Histogram\n",
    "from chr.grey_boxes import HistogramAccumulator\n",
    "\n",
    "\n",
    "def range_modification(y_qlow, y_qup, range_low,  range_up):\n",
    "    y_qlow = np.clip(y_qlow, range_low, range_up)\n",
    "    y_qup = np.clip(y_qup, range_low, range_up)\n",
    "    return y_qlow, y_qup\n",
    "\n",
    "def run_experiment(X, y, seed, dataset='Summeval', dimension='consistency'):\n",
    "    random.seed(seed)\n",
    "    np.random.seed(seed)\n",
    "\n",
    "    X = X.to_numpy().astype(np.float32)\n",
    "    y = y.to_numpy().astype(np.float32)\n",
    "\n",
    "    from sklearn.model_selection import train_test_split\n",
    "    X_cal, X_test, y_cal, y_test = train_test_split(X, y, test_size=0.5, random_state=seed)\n",
    "\n",
    "    grid_quantiles = np.arange(0.01, 1.0, 0.01)\n",
    "\n",
    "    bbox = QNet(\n",
    "        grid_quantiles,\n",
    "        X_cal.shape[1],\n",
    "        no_crossing=True,\n",
    "        batch_size=32,\n",
    "        dropout=0.1,\n",
    "        num_epochs=1000,\n",
    "        learning_rate=0.0005,\n",
    "        num_hidden=256,\n",
    "        calibrate=False\n",
    "    )\n",
    "\n",
    "    bbox.fit(X_cal, y_cal)\n",
    "\n",
    "    grid_histogram = np.arange(0, 6, 0.1)\n",
    "\n",
    "    hist = Histogram(grid_quantiles, grid_histogram)\n",
    "\n",
    "    Q_test = bbox.predict(X_test)\n",
    "\n",
    "    histogram_test = hist.compute_histogram(Q_test, 0, 6, 0.001)\n",
    "\n",
    "    accumulator = HistogramAccumulator(histogram_test, grid_histogram, alpha=alpha, delta_alpha=0.01)\n",
    "\n",
    "    epsilon = np.random.uniform(low=0.0, high=1.0, size=X_test.shape[0])\n",
    "    S, bands = accumulator.predict_intervals(alpha, epsilon=epsilon)\n",
    "    S_int = [np.arange(S[i][0],S[i][1]+1) for i in range(len(S))]\n",
    "    intervals_crch = np.array([[grid_histogram[S_int[i]-1][0],grid_histogram[S_int[i]][-1]] for i in range(len(S_int))])\n",
    "\n",
    "    y_qlow = np.min(intervals_crch, axis=1)\n",
    "    y_qup = np.max(intervals_crch, axis=1)\n",
    "\n",
    "    y_qlow, y_qup = range_modification(y_qlow, y_qup, 1, 5)\n",
    "    intervals = [\n",
    "    [(low, high)] for low, high in zip(y_qlow, y_qup)\n",
    "]\n",
    "\n",
    "    df = pd.DataFrame({\n",
    "        'low':    [iv[0][0] for iv in intervals],\n",
    "        'up':     [iv[0][1] for iv in intervals],\n",
    "        'y_test': y_test\n",
    "    })\n",
    "\n",
    "    df.to_csv(f'CHR_{dataset}_{dimension}_{seed}.csv', index=False)\n",
    "\n",
    "    adjusted_intervals = [\n",
    "    [\n",
    "        (\n",
    "            next((num for num in [1, 2, 3, 4, 5] if abs(low - num) < 0.1), low),\n",
    "            next((num for num in [1, 2, 3, 4, 5] if abs(high - num) < 0.1), high)\n",
    "        )\n",
    "        for low, high in sample_intervals\n",
    "    ]\n",
    "    for sample_intervals in intervals]\n",
    "\n",
    "    intervals = adjusted_intervals\n",
    "\n",
    "    in_interval = [\n",
    "        any(low <= true_value <= high for low, high in sample_intervals)\n",
    "        for sample_intervals, true_value in zip(intervals, y_test)\n",
    "    ]\n",
    "\n",
    "    coverage_rate = np.mean(in_interval)\n",
    "    average_width = np.mean([high - low for sample_intervals in intervals for low, high in sample_intervals])  \n",
    "    return average_width, coverage_rate\n",
    "\n",
    "def calculate_statistics(X, y, num_runs=100, seed_start=1, dataset='Summeval', dimension='consistency'):\n",
    "    from tqdm import tqdm\n",
    "    timecost = []\n",
    "    memory = []\n",
    "    for i in tqdm(range(num_runs), desc=\"Running experiments\"):\n",
    "        seed = seed_start + i\n",
    "        tracemalloc.start()\n",
    "        start = time.perf_counter()\n",
    "        average_width, coverage_rate = run_experiment(X, y, seed, dataset, dimension)\n",
    "        end = time.perf_counter()\n",
    "        current, peak = tracemalloc.get_traced_memory()\n",
    "        tracemalloc.stop()\n",
    "        timecost.append(end - start)\n",
    "        memory.append(peak)\n",
    "\n",
    "    mean_time = np.mean(timecost)\n",
    "    std_time = np.std(timecost)\n",
    "    mean_memory = np.mean(memory)\n",
    "    std_memory = np.std(memory)\n",
    "\n",
    "    return  mean_time, std_time, mean_memory, std_memory"
   ]
  },
  {
   "cell_type": "code",
   "execution_count": 8,
   "metadata": {},
   "outputs": [
    {
     "name": "stderr",
     "output_type": "stream",
     "text": [
      "Running experiments:   0%|          | 0/10 [00:00<?, ?it/s]"
     ]
    },
    {
     "name": "stdout",
     "output_type": "stream",
     "text": [
      "Training with 97 samples and 5 features.\n"
     ]
    },
    {
     "name": "stderr",
     "output_type": "stream",
     "text": [
      "100%|██████████| 1000/1000 [00:08<00:00, 114.67it/s]\n",
      "Running experiments:  10%|█         | 1/10 [00:11<01:46, 11.79s/it]"
     ]
    },
    {
     "name": "stdout",
     "output_type": "stream",
     "text": [
      "Training with 97 samples and 5 features.\n"
     ]
    },
    {
     "name": "stderr",
     "output_type": "stream",
     "text": [
      "100%|██████████| 1000/1000 [00:12<00:00, 79.15it/s]\n",
      "Running experiments:  20%|██        | 2/10 [00:25<01:42, 12.83s/it]"
     ]
    },
    {
     "name": "stdout",
     "output_type": "stream",
     "text": [
      "Training with 97 samples and 5 features.\n"
     ]
    },
    {
     "name": "stderr",
     "output_type": "stream",
     "text": [
      "100%|██████████| 1000/1000 [00:10<00:00, 93.84it/s]\n",
      "Running experiments:  30%|███       | 3/10 [00:36<01:25, 12.24s/it]"
     ]
    },
    {
     "name": "stdout",
     "output_type": "stream",
     "text": [
      "Training with 97 samples and 5 features.\n"
     ]
    },
    {
     "name": "stderr",
     "output_type": "stream",
     "text": [
      "100%|██████████| 1000/1000 [00:11<00:00, 85.67it/s]\n",
      "Running experiments:  40%|████      | 4/10 [00:49<01:14, 12.38s/it]"
     ]
    },
    {
     "name": "stdout",
     "output_type": "stream",
     "text": [
      "Training with 97 samples and 5 features.\n"
     ]
    },
    {
     "name": "stderr",
     "output_type": "stream",
     "text": [
      "100%|██████████| 1000/1000 [00:12<00:00, 77.40it/s]\n",
      "Running experiments:  50%|█████     | 5/10 [01:03<01:04, 12.89s/it]"
     ]
    },
    {
     "name": "stdout",
     "output_type": "stream",
     "text": [
      "Training with 97 samples and 5 features.\n"
     ]
    },
    {
     "name": "stderr",
     "output_type": "stream",
     "text": [
      "100%|██████████| 1000/1000 [00:09<00:00, 105.59it/s]\n",
      "Running experiments:  60%|██████    | 6/10 [01:13<00:48, 12.04s/it]"
     ]
    },
    {
     "name": "stdout",
     "output_type": "stream",
     "text": [
      "Training with 97 samples and 5 features.\n"
     ]
    },
    {
     "name": "stderr",
     "output_type": "stream",
     "text": [
      "100%|██████████| 1000/1000 [00:09<00:00, 107.67it/s]\n",
      "Running experiments:  70%|███████   | 7/10 [01:23<00:34, 11.44s/it]"
     ]
    },
    {
     "name": "stdout",
     "output_type": "stream",
     "text": [
      "Training with 97 samples and 5 features.\n"
     ]
    },
    {
     "name": "stderr",
     "output_type": "stream",
     "text": [
      "100%|██████████| 1000/1000 [00:08<00:00, 117.78it/s]\n",
      "Running experiments:  80%|████████  | 8/10 [01:33<00:21, 10.79s/it]"
     ]
    },
    {
     "name": "stdout",
     "output_type": "stream",
     "text": [
      "Training with 97 samples and 5 features.\n"
     ]
    },
    {
     "name": "stderr",
     "output_type": "stream",
     "text": [
      "100%|██████████| 1000/1000 [00:08<00:00, 114.83it/s]\n",
      "Running experiments:  90%|█████████ | 9/10 [01:42<00:10, 10.42s/it]"
     ]
    },
    {
     "name": "stdout",
     "output_type": "stream",
     "text": [
      "Training with 97 samples and 5 features.\n"
     ]
    },
    {
     "name": "stderr",
     "output_type": "stream",
     "text": [
      "100%|██████████| 1000/1000 [00:08<00:00, 120.54it/s]\n",
      "Running experiments: 100%|██████████| 10/10 [01:52<00:00, 11.21s/it]\n",
      "Running experiments:   0%|          | 0/10 [00:00<?, ?it/s]"
     ]
    },
    {
     "name": "stdout",
     "output_type": "stream",
     "text": [
      "Training with 105 samples and 5 features.\n"
     ]
    },
    {
     "name": "stderr",
     "output_type": "stream",
     "text": [
      "100%|██████████| 1000/1000 [00:09<00:00, 106.14it/s]\n",
      "Running experiments:  10%|█         | 1/10 [00:10<01:33, 10.38s/it]"
     ]
    },
    {
     "name": "stdout",
     "output_type": "stream",
     "text": [
      "Training with 105 samples and 5 features.\n"
     ]
    },
    {
     "name": "stderr",
     "output_type": "stream",
     "text": [
      "100%|██████████| 1000/1000 [00:09<00:00, 108.98it/s]\n",
      "Running experiments:  20%|██        | 2/10 [00:20<01:21, 10.23s/it]"
     ]
    },
    {
     "name": "stdout",
     "output_type": "stream",
     "text": [
      "Training with 105 samples and 5 features.\n"
     ]
    },
    {
     "name": "stderr",
     "output_type": "stream",
     "text": [
      "100%|██████████| 1000/1000 [00:09<00:00, 110.65it/s]\n",
      "Running experiments:  30%|███       | 3/10 [00:30<01:10, 10.12s/it]"
     ]
    },
    {
     "name": "stdout",
     "output_type": "stream",
     "text": [
      "Training with 105 samples and 5 features.\n"
     ]
    },
    {
     "name": "stderr",
     "output_type": "stream",
     "text": [
      "100%|██████████| 1000/1000 [00:08<00:00, 120.60it/s]\n",
      "Running experiments:  40%|████      | 4/10 [00:39<00:58,  9.76s/it]"
     ]
    },
    {
     "name": "stdout",
     "output_type": "stream",
     "text": [
      "Training with 105 samples and 5 features.\n"
     ]
    },
    {
     "name": "stderr",
     "output_type": "stream",
     "text": [
      "100%|██████████| 1000/1000 [00:08<00:00, 116.06it/s]\n",
      "Running experiments:  50%|█████     | 5/10 [00:49<00:48,  9.70s/it]"
     ]
    },
    {
     "name": "stdout",
     "output_type": "stream",
     "text": [
      "Training with 105 samples and 5 features.\n"
     ]
    },
    {
     "name": "stderr",
     "output_type": "stream",
     "text": [
      "100%|██████████| 1000/1000 [00:08<00:00, 117.44it/s]\n",
      "Running experiments:  60%|██████    | 6/10 [00:58<00:38,  9.62s/it]"
     ]
    },
    {
     "name": "stdout",
     "output_type": "stream",
     "text": [
      "Training with 105 samples and 5 features.\n"
     ]
    },
    {
     "name": "stderr",
     "output_type": "stream",
     "text": [
      "100%|██████████| 1000/1000 [00:08<00:00, 117.30it/s]\n",
      "Running experiments:  70%|███████   | 7/10 [01:08<00:28,  9.56s/it]"
     ]
    },
    {
     "name": "stdout",
     "output_type": "stream",
     "text": [
      "Training with 105 samples and 5 features.\n"
     ]
    },
    {
     "name": "stderr",
     "output_type": "stream",
     "text": [
      "100%|██████████| 1000/1000 [00:08<00:00, 116.52it/s]\n",
      "Running experiments:  80%|████████  | 8/10 [01:17<00:19,  9.55s/it]"
     ]
    },
    {
     "name": "stdout",
     "output_type": "stream",
     "text": [
      "Training with 105 samples and 5 features.\n"
     ]
    },
    {
     "name": "stderr",
     "output_type": "stream",
     "text": [
      "100%|██████████| 1000/1000 [00:08<00:00, 121.24it/s]\n",
      "Running experiments:  90%|█████████ | 9/10 [01:26<00:09,  9.43s/it]"
     ]
    },
    {
     "name": "stdout",
     "output_type": "stream",
     "text": [
      "Training with 105 samples and 5 features.\n"
     ]
    },
    {
     "name": "stderr",
     "output_type": "stream",
     "text": [
      "100%|██████████| 1000/1000 [00:08<00:00, 114.17it/s]\n",
      "Running experiments: 100%|██████████| 10/10 [01:36<00:00,  9.66s/it]\n",
      "Running experiments:   0%|          | 0/10 [00:00<?, ?it/s]"
     ]
    },
    {
     "name": "stdout",
     "output_type": "stream",
     "text": [
      "Training with 75 samples and 5 features.\n"
     ]
    },
    {
     "name": "stderr",
     "output_type": "stream",
     "text": [
      "100%|██████████| 1000/1000 [00:06<00:00, 156.92it/s]\n",
      "Running experiments:  10%|█         | 1/10 [00:07<01:03,  7.04s/it]"
     ]
    },
    {
     "name": "stdout",
     "output_type": "stream",
     "text": [
      "Training with 75 samples and 5 features.\n"
     ]
    },
    {
     "name": "stderr",
     "output_type": "stream",
     "text": [
      "100%|██████████| 1000/1000 [00:06<00:00, 150.63it/s]\n",
      "Running experiments:  20%|██        | 2/10 [00:14<00:57,  7.21s/it]"
     ]
    },
    {
     "name": "stdout",
     "output_type": "stream",
     "text": [
      "Training with 75 samples and 5 features.\n"
     ]
    },
    {
     "name": "stderr",
     "output_type": "stream",
     "text": [
      "100%|██████████| 1000/1000 [00:06<00:00, 151.64it/s]\n",
      "Running experiments:  30%|███       | 3/10 [00:21<00:50,  7.24s/it]"
     ]
    },
    {
     "name": "stdout",
     "output_type": "stream",
     "text": [
      "Training with 75 samples and 5 features.\n"
     ]
    },
    {
     "name": "stderr",
     "output_type": "stream",
     "text": [
      "100%|██████████| 1000/1000 [00:06<00:00, 152.96it/s]\n",
      "Running experiments:  40%|████      | 4/10 [00:28<00:43,  7.23s/it]"
     ]
    },
    {
     "name": "stdout",
     "output_type": "stream",
     "text": [
      "Training with 75 samples and 5 features.\n"
     ]
    },
    {
     "name": "stderr",
     "output_type": "stream",
     "text": [
      "100%|██████████| 1000/1000 [00:06<00:00, 148.48it/s]\n",
      "Running experiments:  50%|█████     | 5/10 [00:36<00:36,  7.28s/it]"
     ]
    },
    {
     "name": "stdout",
     "output_type": "stream",
     "text": [
      "Training with 75 samples and 5 features.\n"
     ]
    },
    {
     "name": "stderr",
     "output_type": "stream",
     "text": [
      "100%|██████████| 1000/1000 [00:06<00:00, 151.90it/s]\n",
      "Running experiments:  60%|██████    | 6/10 [00:43<00:29,  7.27s/it]"
     ]
    },
    {
     "name": "stdout",
     "output_type": "stream",
     "text": [
      "Training with 75 samples and 5 features.\n"
     ]
    },
    {
     "name": "stderr",
     "output_type": "stream",
     "text": [
      "100%|██████████| 1000/1000 [00:06<00:00, 147.48it/s]\n",
      "Running experiments:  70%|███████   | 7/10 [00:50<00:22,  7.34s/it]"
     ]
    },
    {
     "name": "stdout",
     "output_type": "stream",
     "text": [
      "Training with 75 samples and 5 features.\n"
     ]
    },
    {
     "name": "stderr",
     "output_type": "stream",
     "text": [
      "100%|██████████| 1000/1000 [00:06<00:00, 156.09it/s]\n",
      "Running experiments:  80%|████████  | 8/10 [00:58<00:14,  7.26s/it]"
     ]
    },
    {
     "name": "stdout",
     "output_type": "stream",
     "text": [
      "Training with 75 samples and 5 features.\n"
     ]
    },
    {
     "name": "stderr",
     "output_type": "stream",
     "text": [
      "100%|██████████| 1000/1000 [00:06<00:00, 148.94it/s]\n",
      "Running experiments:  90%|█████████ | 9/10 [01:05<00:07,  7.29s/it]"
     ]
    },
    {
     "name": "stdout",
     "output_type": "stream",
     "text": [
      "Training with 75 samples and 5 features.\n"
     ]
    },
    {
     "name": "stderr",
     "output_type": "stream",
     "text": [
      "100%|██████████| 1000/1000 [00:06<00:00, 153.35it/s]\n",
      "Running experiments: 100%|██████████| 10/10 [01:12<00:00,  7.26s/it]\n",
      "Running experiments:   0%|          | 0/10 [00:00<?, ?it/s]"
     ]
    },
    {
     "name": "stdout",
     "output_type": "stream",
     "text": [
      "Training with 100 samples and 5 features.\n"
     ]
    },
    {
     "name": "stderr",
     "output_type": "stream",
     "text": [
      "100%|██████████| 1000/1000 [00:08<00:00, 112.85it/s]\n",
      "Running experiments:  10%|█         | 1/10 [00:09<01:27,  9.67s/it]"
     ]
    },
    {
     "name": "stdout",
     "output_type": "stream",
     "text": [
      "Training with 100 samples and 5 features.\n"
     ]
    },
    {
     "name": "stderr",
     "output_type": "stream",
     "text": [
      "100%|██████████| 1000/1000 [00:08<00:00, 117.11it/s]\n",
      "Running experiments:  20%|██        | 2/10 [00:18<01:15,  9.46s/it]"
     ]
    },
    {
     "name": "stdout",
     "output_type": "stream",
     "text": [
      "Training with 100 samples and 5 features.\n"
     ]
    },
    {
     "name": "stderr",
     "output_type": "stream",
     "text": [
      "100%|██████████| 1000/1000 [00:08<00:00, 115.28it/s]\n",
      "Running experiments:  30%|███       | 3/10 [00:28<01:06,  9.46s/it]"
     ]
    },
    {
     "name": "stdout",
     "output_type": "stream",
     "text": [
      "Training with 100 samples and 5 features.\n"
     ]
    },
    {
     "name": "stderr",
     "output_type": "stream",
     "text": [
      "100%|██████████| 1000/1000 [00:08<00:00, 115.75it/s]\n",
      "Running experiments:  40%|████      | 4/10 [00:37<00:56,  9.44s/it]"
     ]
    },
    {
     "name": "stdout",
     "output_type": "stream",
     "text": [
      "Training with 100 samples and 5 features.\n"
     ]
    },
    {
     "name": "stderr",
     "output_type": "stream",
     "text": [
      "100%|██████████| 1000/1000 [00:09<00:00, 110.46it/s]\n",
      "Running experiments:  50%|█████     | 5/10 [00:47<00:47,  9.58s/it]"
     ]
    },
    {
     "name": "stdout",
     "output_type": "stream",
     "text": [
      "Training with 100 samples and 5 features.\n"
     ]
    },
    {
     "name": "stderr",
     "output_type": "stream",
     "text": [
      "100%|██████████| 1000/1000 [00:09<00:00, 110.12it/s]\n",
      "Running experiments:  60%|██████    | 6/10 [00:57<00:38,  9.68s/it]"
     ]
    },
    {
     "name": "stdout",
     "output_type": "stream",
     "text": [
      "Training with 100 samples and 5 features.\n"
     ]
    },
    {
     "name": "stderr",
     "output_type": "stream",
     "text": [
      "100%|██████████| 1000/1000 [00:09<00:00, 110.02it/s]\n",
      "Running experiments:  70%|███████   | 7/10 [01:07<00:29,  9.77s/it]"
     ]
    },
    {
     "name": "stdout",
     "output_type": "stream",
     "text": [
      "Training with 100 samples and 5 features.\n"
     ]
    },
    {
     "name": "stderr",
     "output_type": "stream",
     "text": [
      "100%|██████████| 1000/1000 [00:08<00:00, 119.21it/s]\n",
      "Running experiments:  80%|████████  | 8/10 [01:16<00:19,  9.59s/it]"
     ]
    },
    {
     "name": "stdout",
     "output_type": "stream",
     "text": [
      "Training with 100 samples and 5 features.\n"
     ]
    },
    {
     "name": "stderr",
     "output_type": "stream",
     "text": [
      "100%|██████████| 1000/1000 [00:08<00:00, 118.25it/s]\n",
      "Running experiments:  90%|█████████ | 9/10 [01:25<00:09,  9.50s/it]"
     ]
    },
    {
     "name": "stdout",
     "output_type": "stream",
     "text": [
      "Training with 100 samples and 5 features.\n"
     ]
    },
    {
     "name": "stderr",
     "output_type": "stream",
     "text": [
      "100%|██████████| 1000/1000 [00:08<00:00, 115.94it/s]\n",
      "Running experiments: 100%|██████████| 10/10 [01:35<00:00,  9.54s/it]\n"
     ]
    }
   ],
   "source": [
    "import os\n",
    "import pandas as pd\n",
    "\n",
    "folder_path = f'../model_logits/qwen/'\n",
    "for dimension in [\"cosmos\", \"drop\", \"esnli\", \"gsm8k\"]:\n",
    "        file_path = os.path.join(folder_path, f\"SocREval_{dimension}_logits.csv\")\n",
    "        df = pd.read_csv(file_path)\n",
    "        X = df.iloc[:, :-1]\n",
    "        y = df.iloc[:, -1]\n",
    "        mean_time, std_time, mean_memory, std_memory =  calculate_statistics(X, y, num_runs=10, seed_start=1, dimension=dimension, dataset='SocREval')\n",
    "\n"
   ]
  },
  {
   "cell_type": "code",
   "execution_count": 10,
   "metadata": {},
   "outputs": [
    {
     "data": {
      "text/plain": [
       "(9.543050830019638,\n",
       " 0.2548214770774246,\n",
       " 0.6152247428894043,\n",
       " 0.005219143353982903)"
      ]
     },
     "execution_count": 10,
     "metadata": {},
     "output_type": "execute_result"
    }
   ],
   "source": [
    "mean_time, std_time, mean_memory/1024/1024, std_memory/1024/1024"
   ]
  }
 ],
 "metadata": {
  "kernelspec": {
   "display_name": "Python 3",
   "language": "python",
   "name": "python3"
  },
  "language_info": {
   "codemirror_mode": {
    "name": "ipython",
    "version": 3
   },
   "file_extension": ".py",
   "mimetype": "text/x-python",
   "name": "python",
   "nbconvert_exporter": "python",
   "pygments_lexer": "ipython3",
   "version": "3.11.9"
  }
 },
 "nbformat": 4,
 "nbformat_minor": 2
}
