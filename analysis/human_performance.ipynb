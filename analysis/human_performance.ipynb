{
 "cells": [
  {
   "cell_type": "code",
   "execution_count": 24,
   "id": "011361a0",
   "metadata": {},
   "outputs": [],
   "source": [
    "import random\n",
    "import numpy as np\n",
    "import json\n",
    "from sklearn.model_selection import train_test_split"
   ]
  },
  {
   "cell_type": "code",
   "execution_count": 25,
   "id": "560f7880",
   "metadata": {},
   "outputs": [
    {
     "name": "stdout",
     "output_type": "stream",
     "text": [
      "800\n",
      "consistency 0.33333333333333326\n",
      "relevance 1.0\n",
      "fluency 0.666666666666667\n",
      "coherence 1.0\n"
     ]
    }
   ],
   "source": [
    "data = []\n",
    "with open('./summeval.jsonl', 'r') as f:\n",
    "    for line in f:\n",
    "        line = json.loads(line)\n",
    "        data.append(line)\n",
    "\n",
    "all_indices = list(range(len(data)))\n",
    "cal_indices, test_indices = train_test_split(\n",
    "                                all_indices,\n",
    "                                train_size=800,\n",
    "                                random_state=42,\n",
    "                                shuffle=True)\n",
    "\n",
    "distances = {'consistency':[], 'relevance': [], 'fluency': [], 'coherence': []}\n",
    "\n",
    "for i, line in enumerate(data):\n",
    "    if i in cal_indices:\n",
    "        for key in distances:\n",
    "            distances[key].append(abs(random.choice(line['expert_annotations'])[key] - np.mean([x[key] for x in line['expert_annotations']])))\n",
    "print(len(distances['consistency']))\n",
    "\n",
    "\n",
    "widths = {}\n",
    "for key in distances:\n",
    "    print(key, np.quantile(distances[key], 0.9))\n",
    "    widths[key] = np.quantile(distances[key], 0.9)"
   ]
  },
  {
   "cell_type": "code",
   "execution_count": 26,
   "id": "3b936e38",
   "metadata": {},
   "outputs": [
    {
     "name": "stdout",
     "output_type": "stream",
     "text": [
      "consistency 0.6666666666666665\n",
      "relevance 2.0\n",
      "fluency 1.333333333333334\n",
      "coherence 2.0\n",
      "consistency 0.91375\n",
      "relevance 0.95625\n",
      "fluency 0.9625\n",
      "coherence 0.9275\n"
     ]
    }
   ],
   "source": [
    "widths = {}\n",
    "for key in distances:\n",
    "    widths[key] = np.quantile(distances[key], 0.9)\n",
    "    print(key, widths[key]*2 )\n",
    "\n",
    "coverages = {'consistency':[], 'relevance': [], 'fluency': [], 'coherence': []}\n",
    "\n",
    "for i, line in enumerate(data):\n",
    "    if i in cal_indices:\n",
    "        continue\n",
    "    sample = random.choice(line['expert_annotations'])\n",
    "    for key in coverages:\n",
    "        if sample[key]- widths[key] <= np.mean([x[key] for x in line['expert_annotations']]) <= sample[key] + widths[key]:\n",
    "            coverages[key].append(True)\n",
    "        else:\n",
    "            coverages[key].append(False)\n",
    "\n",
    "for key in coverages:\n",
    "    print(key, sum(coverages[key])/len(coverages[key]))"
   ]
  },
  {
   "cell_type": "code",
   "execution_count": 27,
   "id": "2bc82684",
   "metadata": {},
   "outputs": [
    {
     "name": "stdout",
     "output_type": "stream",
     "text": [
      "700\n",
      "consistency 1.3333333333333335\n",
      "relevance 1.3333333333333335\n",
      "fluency 1.0\n",
      "coherence 1.0\n"
     ]
    }
   ],
   "source": [
    "data = []\n",
    "with open('./dialsumm.jsonl', 'r') as f:\n",
    "    for line in f:\n",
    "        line = json.loads(line)\n",
    "        data.append(line)\n",
    "\n",
    "all_indices = list(range(len(data)))\n",
    "cal_indices, test_indices = train_test_split(\n",
    "                                all_indices,\n",
    "                                train_size=700,\n",
    "                                random_state=42,\n",
    "                                shuffle=True)\n",
    "\n",
    "distances = {'consistency':[], 'relevance': [], 'fluency': [], 'coherence': []}\n",
    "\n",
    "for i, line in enumerate(data):\n",
    "    if i in cal_indices:\n",
    "        for key in distances:\n",
    "            distances[key].append(abs(random.choice(line['annotations'])[key] - np.mean([x[key] for x in line['annotations']])))\n",
    "print(len(distances['consistency']))\n",
    "\n",
    "\n",
    "widths = {}\n",
    "for key in distances:\n",
    "    print(key, np.quantile(distances[key], 0.9))\n",
    "    widths[key] = np.quantile(distances[key], 0.9)"
   ]
  },
  {
   "cell_type": "code",
   "execution_count": 29,
   "id": "9d2b6c3b",
   "metadata": {},
   "outputs": [
    {
     "name": "stdout",
     "output_type": "stream",
     "text": [
      "consistency 2.666666666666667\n",
      "relevance 2.666666666666667\n",
      "fluency 2.0\n",
      "coherence 2.0\n",
      "consistency 0.9585714285714285\n",
      "relevance 0.9557142857142857\n",
      "fluency 0.9514285714285714\n",
      "coherence 0.9685714285714285\n"
     ]
    }
   ],
   "source": [
    "widths = {}\n",
    "for key in distances:\n",
    "    widths[key] = np.quantile(distances[key], 0.9)\n",
    "    print(key, widths[key]*2 )\n",
    "\n",
    "coverages = {'consistency':[], 'relevance': [], 'fluency': [], 'coherence': []}\n",
    "\n",
    "for i, line in enumerate(data):\n",
    "    if i in cal_indices:\n",
    "        continue\n",
    "    sample = random.choice(line['annotations'])\n",
    "    for key in coverages:\n",
    "        if sample[key]- widths[key] <= np.mean([x[key] for x in line['annotations']]) <= sample[key] + widths[key]:\n",
    "            coverages[key].append(True)\n",
    "        else:\n",
    "            coverages[key].append(False)\n",
    "\n",
    "for key in coverages:\n",
    "    print(key, sum(coverages[key])/len(coverages[key]))"
   ]
  }
 ],
 "metadata": {
  "kernelspec": {
   "display_name": "Python 3",
   "language": "python",
   "name": "python3"
  },
  "language_info": {
   "codemirror_mode": {
    "name": "ipython",
    "version": 3
   },
   "file_extension": ".py",
   "mimetype": "text/x-python",
   "name": "python",
   "nbconvert_exporter": "python",
   "pygments_lexer": "ipython3",
   "version": "3.11.9"
  }
 },
 "nbformat": 4,
 "nbformat_minor": 5
}
