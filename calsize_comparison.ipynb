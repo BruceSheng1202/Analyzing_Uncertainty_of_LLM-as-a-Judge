{
 "cells": [
  {
   "cell_type": "code",
   "execution_count": 11,
   "id": "20f736f5",
   "metadata": {},
   "outputs": [],
   "source": [
    "import os\n",
    "import pandas as pd\n",
    "import numpy as np\n",
    "from scipy import stats\n",
    "\n",
    "method = 'R2CCP'\n",
    "models = ['4omini', 'dsr1', 'qwen']\n",
    "datasets = ['Summeval', 'Dialsumm']\n",
    "dimensions = ['consistency', 'coherence', 'fluency', 'relevance']\n",
    "calsizes = ['0.25', '0.5', '0.75', '1']\n",
    "\n",
    "def coverage_and_width(low, up, y_test):\n",
    "    width = up - low\n",
    "    coverage = np.mean((low <= y_test) & (y_test <= up))\n",
    "    return width.mean(), coverage.mean()\n",
    "\n",
    "def process_directory_cal(directory):\n",
    "    results = []\n",
    "    for model in models:\n",
    "        for dataset in datasets:\n",
    "            for dimension in dimensions:\n",
    "                for seed in range(1, 31):\n",
    "                    for calsize in calsizes:\n",
    "                        if calsize == '1':\n",
    "                            file_name = f\"R2CCP_summeval_{dimension}_{seed}.csv\"\n",
    "                            file_path = os.path.join(directory, 'interval_results', model, method, file_name)\n",
    "                        else:\n",
    "                            file_name = f\"R2CCP_{dataset}_{dimension}_{seed}_{calsize}.csv\"\n",
    "                            file_path = os.path.join(directory, 'calsize', model, file_name)\n",
    "                        \n",
    "                        if os.path.exists(file_path):\n",
    "                            data = pd.read_csv(file_path)\n",
    "                            data = data.round(2)\n",
    "                            width, coverage = coverage_and_width(data['low'], data['up'], data['y_test'])\n",
    "                            results.append((model, dataset, dimension, calsize, coverage))\n",
    "    \n",
    "    return pd.DataFrame(results, columns=['Model', 'Dataset', 'Dimension', 'Calsize', 'Coverage'])\n",
    "\n",
    "def aggregate_results(df):\n",
    "    aggregated = df.groupby(\n",
    "        ['Model', 'Dataset', 'Dimension', 'Calsize']\n",
    "    ).agg({\n",
    "        'Coverage': ['mean', 'std']\n",
    "    }).reset_index()\n",
    "\n",
    "    aggregated.columns = [\n",
    "        'Model', 'Dataset', 'Dimension', 'Calsize',\n",
    "        'Coverage_mean', 'Coverage_std'\n",
    "    ]\n",
    "\n",
    "    return aggregated[\n",
    "        ['Model', 'Dataset', 'Dimension', 'Calsize',\n",
    "         'Coverage_mean', 'Coverage_std']\n",
    "    ]"
   ]
  },
  {
   "cell_type": "code",
   "execution_count": 12,
   "id": "cac4dd55",
   "metadata": {},
   "outputs": [],
   "source": [
    "base_dir = os.getcwd() \n",
    "df_all = process_directory_cal(base_dir)\n",
    "df_aggregated = aggregate_results(df_all)\n",
    "df_aggregated.to_csv('Summary_calsize.csv', index=False)"
   ]
  },
  {
   "cell_type": "code",
   "execution_count": 13,
   "id": "225b8945",
   "metadata": {},
   "outputs": [
    {
     "name": "stdout",
     "output_type": "stream",
     "text": [
      "     Model   Dataset    Dimension Calsize  Coverage_mean  Coverage_std\n",
      "0   4omini  Dialsumm    coherence    0.25       0.887238      0.052089\n",
      "1   4omini  Dialsumm    coherence     0.5       0.890714      0.042955\n",
      "2   4omini  Dialsumm    coherence    0.75       0.902810      0.024175\n",
      "3   4omini  Dialsumm    coherence       1       0.896339      0.031191\n",
      "4   4omini  Dialsumm  consistency    0.25       0.876772      0.048817\n",
      "..     ...       ...          ...     ...            ...           ...\n",
      "91    qwen  Summeval      fluency       1       0.901750      0.019207\n",
      "92    qwen  Summeval    relevance    0.25       0.876595      0.064757\n",
      "93    qwen  Summeval    relevance     0.5       0.883125      0.023655\n",
      "94    qwen  Summeval    relevance    0.75       0.895750      0.025719\n",
      "95    qwen  Summeval    relevance       1       0.904542      0.024919\n",
      "\n",
      "[96 rows x 6 columns]\n"
     ]
    }
   ],
   "source": [
    "print(df_aggregated)"
   ]
  }
 ],
 "metadata": {
  "kernelspec": {
   "display_name": "Python 3",
   "language": "python",
   "name": "python3"
  },
  "language_info": {
   "codemirror_mode": {
    "name": "ipython",
    "version": 3
   },
   "file_extension": ".py",
   "mimetype": "text/x-python",
   "name": "python",
   "nbconvert_exporter": "python",
   "pygments_lexer": "ipython3",
   "version": "3.11.9"
  }
 },
 "nbformat": 4,
 "nbformat_minor": 5
}
