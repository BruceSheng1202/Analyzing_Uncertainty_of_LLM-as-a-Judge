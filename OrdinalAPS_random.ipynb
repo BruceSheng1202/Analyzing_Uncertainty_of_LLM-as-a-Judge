{
 "cells": [
  {
   "cell_type": "code",
   "execution_count": 2,
   "metadata": {},
   "outputs": [],
   "source": [
    "word_to_number = {\n",
    "    'one': 1,\n",
    "    'two': 2,\n",
    "    'three': 3,\n",
    "    'four': 4,\n",
    "    'five': 5\n",
    "}\n",
    "\n",
    "import numpy as np\n",
    "import random\n",
    "import torch\n",
    "\n",
    "alpha = 0.10\n",
    "\n",
    "import json\n",
    "import math\n",
    "import pandas as pd\n",
    "from matplotlib import pyplot as plt\n",
    "import os, sys\n",
    "\n"
   ]
  },
  {
   "cell_type": "code",
   "execution_count": 3,
   "metadata": {},
   "outputs": [],
   "source": [
    "def get_qhat_ordinal_aps(prediction_function, cal_scores, cal_labels, alpha):\n",
    "    n = cal_scores.shape[0]\n",
    "    grid_size = 10000\n",
    "    for q in np.linspace(1e-3, 1 - 1e-3, grid_size)[::-1]:\n",
    "        coverage, _, _ = evaluate_sets(prediction_function, np.copy(cal_scores), np.copy(cal_labels), q, alpha)\n",
    "        if coverage <= (np.ceil((n + 1)*(1 - alpha))/n):\n",
    "            # return q + 1/(grid_size - 1)\n",
    "            return np.minimum(q + 1/(grid_size - 1), 1.0 - 1e-6)  # Clip q to be less than 1.0\n",
    "    return q\n",
    "\n",
    "def evaluate_sets(prediction_function, val_scores, val_labels, qhat, alpha, print_bool=False):\n",
    "    sets = prediction_function(val_scores, qhat)\n",
    "    # Check\n",
    "    sizes = sets.sum(axis=1)\n",
    "    sizes_distribution = np.array([(sizes == i).mean() for i in range(5)])\n",
    "    # Evaluate coverage\n",
    "    covered = sets[np.arange(val_labels.shape[0]), val_labels]\n",
    "    coverage = covered.mean()\n",
    "    label_stratified_coverage = [\n",
    "        covered[val_labels == j].mean() for j in range(np.unique(val_labels).max() + 1)\n",
    "    ]\n",
    "    label_distribution = [\n",
    "        (val_labels == j).mean() for j in range(np.unique(val_labels).max() + 1)\n",
    "    ]\n",
    "    if(print_bool):\n",
    "        print(r'$\\alpha$' + f\":{alpha}  |  coverage: {coverage}  |  average size: {sizes.mean()}  |  qhat: {qhat}  |  set size distribution: {sizes_distribution} \")\n",
    "        print(f\"label stratified coverage: {label_stratified_coverage}  \\nlabel distribution: {label_distribution}\")\n",
    "    return coverage, label_stratified_coverage, sizes_distribution\n",
    "\n",
    "def ordinal_aps_prediction(val_scores, qhat):\n",
    "    import numpy as np\n",
    "\n",
    "    n_samples, n_classes = val_scores.shape\n",
    "    P = val_scores == val_scores.max(axis=1)[:, None]\n",
    "\n",
    "    idx_construction_incomplete = (val_scores * P.astype(float)).sum(axis=1) <= qhat\n",
    "\n",
    "    max_iter = n_classes  \n",
    "    iter_count = 0\n",
    "\n",
    "    while idx_construction_incomplete.sum() > 0:\n",
    "        iter_count += 1\n",
    "        if iter_count > max_iter:\n",
    "            P[idx_construction_incomplete] = True\n",
    "            break\n",
    "\n",
    "        P_inc = P[idx_construction_incomplete]\n",
    "        scores_inc = val_scores[idx_construction_incomplete]\n",
    "\n",
    "        set_cumsum = P_inc.cumsum(axis=1)\n",
    "        lower_edge_idx = (P_inc > 0).argmax(axis=1)\n",
    "        upper_edge_idx = set_cumsum.argmax(axis=1)\n",
    "\n",
    "        left_valid = (lower_edge_idx - 1) >= 0\n",
    "        right_valid = (upper_edge_idx + 1) < scores_inc.shape[1]\n",
    "\n",
    "        lower_edge_wins = np.zeros(scores_inc.shape[0], dtype=bool)\n",
    "\n",
    "        lower_edge_wins[~right_valid & left_valid] = True\n",
    "\n",
    "        both_valid = left_valid & right_valid\n",
    "        lower_scores = scores_inc[np.arange(scores_inc.shape[0])[both_valid], lower_edge_idx[both_valid] - 1]\n",
    "        upper_scores = scores_inc[np.arange(scores_inc.shape[0])[both_valid], upper_edge_idx[both_valid] + 1]\n",
    "        lower_edge_wins[both_valid] = lower_scores > upper_scores\n",
    "\n",
    "        valid_left = lower_edge_wins & ((lower_edge_idx - 1) >= 0)\n",
    "        P_inc[valid_left, lower_edge_idx[valid_left] - 1] = True\n",
    "\n",
    "        valid_right = (~lower_edge_wins) & ((upper_edge_idx + 1) < scores_inc.shape[1])\n",
    "        P_inc[valid_right, upper_edge_idx[valid_right] + 1] = True\n",
    "\n",
    "        P[idx_construction_incomplete] = P_inc\n",
    "\n",
    "        idx_construction_incomplete = (val_scores * P.astype(float)).sum(axis=1) <= qhat\n",
    "\n",
    "    return P\n"
   ]
  },
  {
   "cell_type": "code",
   "execution_count": 17,
   "metadata": {},
   "outputs": [],
   "source": [
    "def softmax(logits):\n",
    "    exp_logits = np.exp(logits - np.max(logits, axis=1, keepdims=True))\n",
    "    return exp_logits / np.sum(exp_logits, axis=1, keepdims=True)\n",
    "\n",
    "def run_experiment(X, y, seed, dataset='summeval', dimension='consistency'):\n",
    "    random.seed(seed)\n",
    "    np.random.seed(seed)\n",
    "\n",
    "    X.columns = list(range(len(X.columns)))\n",
    "    X = X.to_numpy().astype(np.float32)\n",
    "    y = y.to_numpy().astype(np.float32)*3-3\n",
    "\n",
    "    y = y.astype(int)\n",
    "    x_arr = X\n",
    "    from scipy.interpolate import interp1d\n",
    "    n = x_arr.shape[0]\n",
    "    m = 13\n",
    "\n",
    "    new_x = np.zeros((n, m))\n",
    "    orig_idx = np.linspace(3, 15, 5)-3\n",
    "    target_idx = np.linspace(3, 15, m)-3\n",
    "\n",
    "    for i in range(n):\n",
    "        f = interp1d(orig_idx, x_arr[i, :], kind='linear')\n",
    "        new_x[i, :] = f(target_idx)\n",
    "    \n",
    "    new_x = softmax(new_x)\n",
    "    # new_x = softmax(x_arr)\n",
    "\n",
    "    from sklearn.model_selection import train_test_split\n",
    "\n",
    "    fyxs_cal, fyxs_test, y_cal, y_test = train_test_split(new_x, y, test_size=0.5, random_state=seed)\n",
    "    y_cal = y_cal.ravel()\n",
    "    y_test = y_test.ravel()\n",
    "\n",
    "    cal_scores = fyxs_cal\n",
    "    cal_labels = y_cal\n",
    "    test_scores = fyxs_test\n",
    "    test_labels = y_test\n",
    "\n",
    "    qhat = get_qhat_ordinal_aps(ordinal_aps_prediction, np.copy(cal_scores), np.copy(cal_labels), alpha)\n",
    "    test_pred_sets = ordinal_aps_prediction(np.copy(test_scores), qhat)\n",
    "    prediction_intervals = []\n",
    "    for pred_set in test_pred_sets:\n",
    "        indices = np.where(pred_set)[0]\n",
    "        if len(indices) > 0:\n",
    "            interval = (indices.min(), indices.max())\n",
    "        else:\n",
    "            interval = None \n",
    "        prediction_intervals.append(interval)\n",
    "\n",
    "    y_qlow, y_qup = zip(*prediction_intervals)\n",
    "    y_qlow = (np.array(y_qlow)+3)/3\n",
    "    y_qup = (np.array(y_qup)+3)/3\n",
    "\n",
    "    y_test_real = test_labels/3+1\n",
    "    # y_qlow = np.array(y_qlow)+1\n",
    "    # y_qup = np.array(y_qup)+1\n",
    "\n",
    "    # y_test_real = test_labels+1\n",
    "\n",
    "    df = pd.DataFrame({\n",
    "        'low':    y_qlow.ravel(),\n",
    "        'up':     y_qup.ravel(),\n",
    "        'y_test': y_test_real.ravel(),\n",
    "    })\n",
    "\n",
    "    df.to_csv(f'OrdinalAPS_{dataset}_{dimension}_{seed}.csv', index=False)\n",
    "\n",
    "    in_interval = (y_test_real >= y_qlow) & (y_test_real <= y_qup)\n",
    "\n",
    "    average_width = np.mean(y_qup-y_qlow)\n",
    "    coverage_rate = np.mean(in_interval)\n",
    "\n",
    "    print(f\"Seed: {seed}, Width: {average_width:.4f}, Coverage: {coverage_rate:.4f}\")\n",
    "\n",
    "    return average_width, coverage_rate\n",
    "\n",
    "def calculate_statistics(X, y, num_runs=100, seed_start=1, dataset='summeval', dimension='consistency'):\n",
    "    from tqdm import tqdm\n",
    "    width = []\n",
    "    coverage = []\n",
    "    for i in tqdm(range(num_runs), desc=\"Running experiments\"):\n",
    "        seed = seed_start + i\n",
    "        try:\n",
    "            average_width, coverage_rate = run_experiment(X, y, seed, dataset, dimension)\n",
    "            width.append(average_width)\n",
    "            coverage.append(coverage_rate)\n",
    "        except IndexError as e:\n",
    "            print(f\"Skipping seed {seed} due to error: {e}\")\n",
    "            continue\n",
    "    \n",
    "    mean_width = np.mean(width)\n",
    "    std_width = np.std(width)\n",
    "    mean_coverage = np.mean(coverage)\n",
    "    std_coverage = np.std(coverage)\n",
    "\n",
    "    print(\"\\nSummary of Ordinal APS:\")\n",
    "    print(f\"Width: {mean_width:.4f}, {std_width:.4f}\")\n",
    "    print(f\"Coverage: {mean_coverage:.4f}, {std_coverage:.4f}\")\n",
    "\n",
    "    return  width, coverage"
   ]
  },
  {
   "cell_type": "code",
   "execution_count": 28,
   "metadata": {},
   "outputs": [
    {
     "name": "stderr",
     "output_type": "stream",
     "text": [
      "Running experiments:   3%|▎         | 1/30 [00:00<00:11,  2.43it/s]"
     ]
    },
    {
     "name": "stdout",
     "output_type": "stream",
     "text": [
      "Seed: 1, Width: 2.4981, Coverage: 0.8600\n"
     ]
    },
    {
     "name": "stderr",
     "output_type": "stream",
     "text": [
      "Running experiments:   7%|▋         | 2/30 [00:00<00:11,  2.44it/s]"
     ]
    },
    {
     "name": "stdout",
     "output_type": "stream",
     "text": [
      "Seed: 2, Width: 2.4919, Coverage: 0.8614\n"
     ]
    },
    {
     "name": "stderr",
     "output_type": "stream",
     "text": [
      "Running experiments:  10%|█         | 3/30 [00:01<00:10,  2.59it/s]"
     ]
    },
    {
     "name": "stdout",
     "output_type": "stream",
     "text": [
      "Seed: 3, Width: 2.5514, Coverage: 0.8843\n"
     ]
    },
    {
     "name": "stderr",
     "output_type": "stream",
     "text": [
      "Running experiments:  13%|█▎        | 4/30 [00:01<00:09,  2.80it/s]"
     ]
    },
    {
     "name": "stdout",
     "output_type": "stream",
     "text": [
      "Seed: 4, Width: 2.6267, Coverage: 0.8986\n"
     ]
    },
    {
     "name": "stderr",
     "output_type": "stream",
     "text": [
      "Running experiments:  17%|█▋        | 5/30 [00:01<00:08,  2.80it/s]"
     ]
    },
    {
     "name": "stdout",
     "output_type": "stream",
     "text": [
      "Seed: 5, Width: 2.5719, Coverage: 0.8814\n"
     ]
    },
    {
     "name": "stderr",
     "output_type": "stream",
     "text": [
      "Running experiments:  20%|██        | 6/30 [00:02<00:08,  2.68it/s]"
     ]
    },
    {
     "name": "stdout",
     "output_type": "stream",
     "text": [
      "Seed: 6, Width: 2.5029, Coverage: 0.8700\n"
     ]
    },
    {
     "name": "stderr",
     "output_type": "stream",
     "text": [
      "Running experiments:  23%|██▎       | 7/30 [00:02<00:07,  2.89it/s]"
     ]
    },
    {
     "name": "stdout",
     "output_type": "stream",
     "text": [
      "Seed: 7, Width: 2.6281, Coverage: 0.9100\n"
     ]
    },
    {
     "name": "stderr",
     "output_type": "stream",
     "text": [
      "Running experiments:  27%|██▋       | 8/30 [00:02<00:07,  2.96it/s]"
     ]
    },
    {
     "name": "stdout",
     "output_type": "stream",
     "text": [
      "Seed: 8, Width: 2.6038, Coverage: 0.8829\n"
     ]
    },
    {
     "name": "stderr",
     "output_type": "stream",
     "text": [
      "Running experiments:  30%|███       | 9/30 [00:03<00:06,  3.05it/s]"
     ]
    },
    {
     "name": "stdout",
     "output_type": "stream",
     "text": [
      "Seed: 9, Width: 2.6324, Coverage: 0.8986\n"
     ]
    },
    {
     "name": "stderr",
     "output_type": "stream",
     "text": [
      "Running experiments:  33%|███▎      | 10/30 [00:03<00:06,  3.06it/s]"
     ]
    },
    {
     "name": "stdout",
     "output_type": "stream",
     "text": [
      "Seed: 10, Width: 2.6386, Coverage: 0.8929\n"
     ]
    },
    {
     "name": "stderr",
     "output_type": "stream",
     "text": [
      "Running experiments:  37%|███▋      | 11/30 [00:03<00:06,  2.96it/s]"
     ]
    },
    {
     "name": "stdout",
     "output_type": "stream",
     "text": [
      "Seed: 11, Width: 2.5505, Coverage: 0.8800\n"
     ]
    },
    {
     "name": "stderr",
     "output_type": "stream",
     "text": [
      "Running experiments:  40%|████      | 12/30 [00:04<00:06,  2.80it/s]"
     ]
    },
    {
     "name": "stdout",
     "output_type": "stream",
     "text": [
      "Seed: 12, Width: 2.4781, Coverage: 0.8614\n"
     ]
    },
    {
     "name": "stderr",
     "output_type": "stream",
     "text": [
      "Running experiments:  43%|████▎     | 13/30 [00:04<00:05,  2.89it/s]"
     ]
    },
    {
     "name": "stdout",
     "output_type": "stream",
     "text": [
      "Seed: 13, Width: 2.6362, Coverage: 0.8914\n"
     ]
    },
    {
     "name": "stderr",
     "output_type": "stream",
     "text": [
      "Running experiments:  47%|████▋     | 14/30 [00:04<00:05,  2.91it/s]"
     ]
    },
    {
     "name": "stdout",
     "output_type": "stream",
     "text": [
      "Seed: 14, Width: 2.5838, Coverage: 0.8900\n"
     ]
    },
    {
     "name": "stderr",
     "output_type": "stream",
     "text": [
      "Running experiments:  50%|█████     | 15/30 [00:05<00:05,  2.92it/s]"
     ]
    },
    {
     "name": "stdout",
     "output_type": "stream",
     "text": [
      "Seed: 15, Width: 2.6048, Coverage: 0.8943\n"
     ]
    },
    {
     "name": "stderr",
     "output_type": "stream",
     "text": [
      "Running experiments:  53%|█████▎    | 16/30 [00:05<00:04,  2.99it/s]"
     ]
    },
    {
     "name": "stdout",
     "output_type": "stream",
     "text": [
      "Seed: 16, Width: 2.6295, Coverage: 0.8929\n"
     ]
    },
    {
     "name": "stderr",
     "output_type": "stream",
     "text": [
      "Running experiments:  57%|█████▋    | 17/30 [00:05<00:04,  2.89it/s]"
     ]
    },
    {
     "name": "stdout",
     "output_type": "stream",
     "text": [
      "Seed: 17, Width: 2.5481, Coverage: 0.8714\n"
     ]
    },
    {
     "name": "stderr",
     "output_type": "stream",
     "text": [
      "Running experiments:  60%|██████    | 18/30 [00:06<00:04,  2.73it/s]"
     ]
    },
    {
     "name": "stdout",
     "output_type": "stream",
     "text": [
      "Seed: 18, Width: 2.4967, Coverage: 0.8629\n"
     ]
    },
    {
     "name": "stderr",
     "output_type": "stream",
     "text": [
      "Running experiments:  63%|██████▎   | 19/30 [00:06<00:03,  2.88it/s]"
     ]
    },
    {
     "name": "stdout",
     "output_type": "stream",
     "text": [
      "Seed: 19, Width: 2.6443, Coverage: 0.8914\n"
     ]
    },
    {
     "name": "stderr",
     "output_type": "stream",
     "text": [
      "Running experiments:  67%|██████▋   | 20/30 [00:07<00:03,  2.75it/s]"
     ]
    },
    {
     "name": "stdout",
     "output_type": "stream",
     "text": [
      "Seed: 20, Width: 2.5086, Coverage: 0.8643\n"
     ]
    },
    {
     "name": "stderr",
     "output_type": "stream",
     "text": [
      "Running experiments:  70%|███████   | 21/30 [00:07<00:03,  2.61it/s]"
     ]
    },
    {
     "name": "stdout",
     "output_type": "stream",
     "text": [
      "Seed: 21, Width: 2.4371, Coverage: 0.8486\n"
     ]
    },
    {
     "name": "stderr",
     "output_type": "stream",
     "text": [
      "Running experiments:  73%|███████▎  | 22/30 [00:07<00:03,  2.61it/s]"
     ]
    },
    {
     "name": "stdout",
     "output_type": "stream",
     "text": [
      "Seed: 22, Width: 2.5605, Coverage: 0.8629\n"
     ]
    },
    {
     "name": "stderr",
     "output_type": "stream",
     "text": [
      "Running experiments:  77%|███████▋  | 23/30 [00:08<00:02,  2.53it/s]"
     ]
    },
    {
     "name": "stdout",
     "output_type": "stream",
     "text": [
      "Seed: 23, Width: 2.4986, Coverage: 0.8571\n"
     ]
    },
    {
     "name": "stderr",
     "output_type": "stream",
     "text": [
      "Running experiments:  80%|████████  | 24/30 [00:08<00:02,  2.67it/s]"
     ]
    },
    {
     "name": "stdout",
     "output_type": "stream",
     "text": [
      "Seed: 24, Width: 2.6229, Coverage: 0.8943\n"
     ]
    },
    {
     "name": "stderr",
     "output_type": "stream",
     "text": [
      "Running experiments:  83%|████████▎ | 25/30 [00:08<00:01,  2.74it/s]"
     ]
    },
    {
     "name": "stdout",
     "output_type": "stream",
     "text": [
      "Seed: 25, Width: 2.5633, Coverage: 0.8814\n"
     ]
    },
    {
     "name": "stderr",
     "output_type": "stream",
     "text": [
      "Running experiments:  87%|████████▋ | 26/30 [00:09<00:01,  2.78it/s]"
     ]
    },
    {
     "name": "stdout",
     "output_type": "stream",
     "text": [
      "Seed: 26, Width: 2.5786, Coverage: 0.8800\n"
     ]
    },
    {
     "name": "stderr",
     "output_type": "stream",
     "text": [
      "Running experiments:  90%|█████████ | 27/30 [00:09<00:01,  2.81it/s]"
     ]
    },
    {
     "name": "stdout",
     "output_type": "stream",
     "text": [
      "Seed: 27, Width: 2.5652, Coverage: 0.8800\n"
     ]
    },
    {
     "name": "stderr",
     "output_type": "stream",
     "text": [
      "Running experiments:  93%|█████████▎| 28/30 [00:09<00:00,  2.89it/s]"
     ]
    },
    {
     "name": "stdout",
     "output_type": "stream",
     "text": [
      "Seed: 28, Width: 2.5757, Coverage: 0.8843\n"
     ]
    },
    {
     "name": "stderr",
     "output_type": "stream",
     "text": [
      "Running experiments:  97%|█████████▋| 29/30 [00:10<00:00,  2.95it/s]"
     ]
    },
    {
     "name": "stdout",
     "output_type": "stream",
     "text": [
      "Seed: 29, Width: 2.5810, Coverage: 0.8886\n"
     ]
    },
    {
     "name": "stderr",
     "output_type": "stream",
     "text": [
      "Running experiments: 100%|██████████| 30/30 [00:10<00:00,  2.83it/s]\n"
     ]
    },
    {
     "name": "stdout",
     "output_type": "stream",
     "text": [
      "Seed: 30, Width: 2.6200, Coverage: 0.9014\n",
      "\n",
      "Summary of Ordinal APS:\n",
      "Width: 2.5676, 0.0560\n",
      "Coverage: 0.8806, 0.0151\n"
     ]
    },
    {
     "name": "stderr",
     "output_type": "stream",
     "text": [
      "Running experiments:   0%|          | 0/30 [00:00<?, ?it/s]C:\\Users\\huanx\\AppData\\Local\\Temp\\ipykernel_42580\\1309679868.py:20: RuntimeWarning: Mean of empty slice.\n",
      "  covered[val_labels == j].mean() for j in range(np.unique(val_labels).max() + 1)\n",
      "C:\\Users\\huanx\\AppData\\Local\\Packages\\PythonSoftwareFoundation.Python.3.11_qbz5n2kfra8p0\\LocalCache\\local-packages\\Python311\\site-packages\\numpy\\core\\_methods.py:129: RuntimeWarning: invalid value encountered in scalar divide\n",
      "  ret = ret.dtype.type(ret / rcount)\n",
      "Running experiments:  10%|█         | 3/30 [00:00<00:01, 24.76it/s]"
     ]
    },
    {
     "name": "stdout",
     "output_type": "stream",
     "text": [
      "Seed: 1, Width: 2.8805, Coverage: 0.5986\n",
      "Seed: 2, Width: 2.8633, Coverage: 0.5957\n",
      "Seed: 3, Width: 2.8729, Coverage: 0.5757\n",
      "Seed: 4, Width: 2.8967, Coverage: 0.6100\n",
      "Seed: 5, Width: 2.8976, Coverage: 0.6129\n"
     ]
    },
    {
     "name": "stderr",
     "output_type": "stream",
     "text": [
      "Running experiments:  30%|███       | 9/30 [00:00<00:00, 24.22it/s]"
     ]
    },
    {
     "name": "stdout",
     "output_type": "stream",
     "text": [
      "Seed: 6, Width: 2.8414, Coverage: 0.5771\n",
      "Seed: 7, Width: 2.8424, Coverage: 0.5914\n",
      "Seed: 8, Width: 2.8800, Coverage: 0.5857\n",
      "Seed: 9, Width: 2.8871, Coverage: 0.6057\n",
      "Seed: 10, Width: 2.8876, Coverage: 0.6071\n",
      "Seed: 11, Width: 2.8605, Coverage: 0.5871\n"
     ]
    },
    {
     "name": "stderr",
     "output_type": "stream",
     "text": [
      "Running experiments:  40%|████      | 12/30 [00:00<00:00, 24.36it/s]"
     ]
    },
    {
     "name": "stdout",
     "output_type": "stream",
     "text": [
      "Seed: 12, Width: 2.8914, Coverage: 0.5929\n",
      "Seed: 13, Width: 2.8886, Coverage: 0.6186\n",
      "Seed: 14, Width: 2.8795, Coverage: 0.5814\n"
     ]
    },
    {
     "name": "stderr",
     "output_type": "stream",
     "text": [
      "Running experiments:  50%|█████     | 15/30 [00:00<00:00, 24.52it/s]"
     ]
    },
    {
     "name": "stdout",
     "output_type": "stream",
     "text": [
      "Seed: 15, Width: 2.8690, Coverage: 0.5729\n",
      "Seed: 16, Width: 2.8919, Coverage: 0.5971\n",
      "Seed: 17, Width: 2.8505, Coverage: 0.5857\n"
     ]
    },
    {
     "name": "stderr",
     "output_type": "stream",
     "text": [
      "Running experiments:  60%|██████    | 18/30 [00:00<00:00, 24.47it/s]"
     ]
    },
    {
     "name": "stdout",
     "output_type": "stream",
     "text": [
      "Seed: 18, Width: 2.8671, Coverage: 0.5857\n",
      "Seed: 19, Width: 2.8624, Coverage: 0.5957\n",
      "Seed: 20, Width: 2.8786, Coverage: 0.5900\n"
     ]
    },
    {
     "name": "stderr",
     "output_type": "stream",
     "text": [
      "Running experiments:  70%|███████   | 21/30 [00:00<00:00, 24.38it/s]"
     ]
    },
    {
     "name": "stdout",
     "output_type": "stream",
     "text": [
      "Seed: 21, Width: 2.8724, Coverage: 0.6186\n",
      "Seed: 22, Width: 2.8976, Coverage: 0.6257\n",
      "Seed: 23, Width: 2.8648, Coverage: 0.5886\n"
     ]
    },
    {
     "name": "stderr",
     "output_type": "stream",
     "text": [
      "Running experiments:  80%|████████  | 24/30 [00:00<00:00, 24.70it/s]"
     ]
    },
    {
     "name": "stdout",
     "output_type": "stream",
     "text": [
      "Seed: 24, Width: 2.8971, Coverage: 0.6257\n",
      "Seed: 25, Width: 2.8771, Coverage: 0.5971\n",
      "Seed: 26, Width: 2.8557, Coverage: 0.5714\n"
     ]
    },
    {
     "name": "stderr",
     "output_type": "stream",
     "text": [
      "Running experiments:  90%|█████████ | 27/30 [00:01<00:00, 24.67it/s]"
     ]
    },
    {
     "name": "stdout",
     "output_type": "stream",
     "text": [
      "Seed: 27, Width: 2.8757, Coverage: 0.6043\n",
      "Seed: 28, Width: 2.8614, Coverage: 0.5843\n",
      "Seed: 29, Width: 2.8695, Coverage: 0.5914\n"
     ]
    },
    {
     "name": "stderr",
     "output_type": "stream",
     "text": [
      "Running experiments: 100%|██████████| 30/30 [00:01<00:00, 24.49it/s]\n"
     ]
    },
    {
     "name": "stdout",
     "output_type": "stream",
     "text": [
      "Seed: 30, Width: 2.8919, Coverage: 0.6343\n",
      "\n",
      "Summary of Ordinal APS:\n",
      "Width: 2.8751, 0.0158\n",
      "Coverage: 0.5970, 0.0161\n"
     ]
    },
    {
     "name": "stderr",
     "output_type": "stream",
     "text": [
      "Running experiments:   0%|          | 0/30 [00:00<?, ?it/s]C:\\Users\\huanx\\AppData\\Local\\Temp\\ipykernel_42580\\1309679868.py:20: RuntimeWarning: Mean of empty slice.\n",
      "  covered[val_labels == j].mean() for j in range(np.unique(val_labels).max() + 1)\n",
      "C:\\Users\\huanx\\AppData\\Local\\Packages\\PythonSoftwareFoundation.Python.3.11_qbz5n2kfra8p0\\LocalCache\\local-packages\\Python311\\site-packages\\numpy\\core\\_methods.py:129: RuntimeWarning: invalid value encountered in scalar divide\n",
      "  ret = ret.dtype.type(ret / rcount)\n",
      "Running experiments:  10%|█         | 3/30 [00:00<00:01, 25.42it/s]"
     ]
    },
    {
     "name": "stdout",
     "output_type": "stream",
     "text": [
      "Seed: 1, Width: 2.9495, Coverage: 0.7400\n",
      "Seed: 2, Width: 2.9524, Coverage: 0.7286\n",
      "Seed: 3, Width: 2.9838, Coverage: 0.7429\n",
      "Seed: 4, Width: 2.9371, Coverage: 0.7300\n",
      "Seed: 5, Width: 2.9005, Coverage: 0.7214\n"
     ]
    },
    {
     "name": "stderr",
     "output_type": "stream",
     "text": [
      "Running experiments:  30%|███       | 9/30 [00:00<00:00, 23.98it/s]"
     ]
    },
    {
     "name": "stdout",
     "output_type": "stream",
     "text": [
      "Seed: 6, Width: 2.9438, Coverage: 0.7114\n",
      "Seed: 7, Width: 2.9500, Coverage: 0.7271\n",
      "Seed: 8, Width: 2.9571, Coverage: 0.7443\n",
      "Seed: 9, Width: 2.9152, Coverage: 0.7329\n",
      "Seed: 10, Width: 2.9462, Coverage: 0.7329\n",
      "Seed: 11, Width: 2.9614, Coverage: 0.7329\n"
     ]
    },
    {
     "name": "stderr",
     "output_type": "stream",
     "text": [
      "Running experiments:  40%|████      | 12/30 [00:00<00:00, 23.66it/s]"
     ]
    },
    {
     "name": "stdout",
     "output_type": "stream",
     "text": [
      "Seed: 12, Width: 2.9110, Coverage: 0.7143\n",
      "Seed: 13, Width: 2.9181, Coverage: 0.7171\n",
      "Seed: 14, Width: 2.9690, Coverage: 0.7214\n"
     ]
    },
    {
     "name": "stderr",
     "output_type": "stream",
     "text": [
      "Running experiments:  50%|█████     | 15/30 [00:00<00:00, 23.69it/s]"
     ]
    },
    {
     "name": "stdout",
     "output_type": "stream",
     "text": [
      "Seed: 15, Width: 2.9586, Coverage: 0.7200\n",
      "Seed: 16, Width: 2.9495, Coverage: 0.7357\n",
      "Seed: 17, Width: 2.9771, Coverage: 0.7143\n"
     ]
    },
    {
     "name": "stderr",
     "output_type": "stream",
     "text": [
      "Running experiments:  60%|██████    | 18/30 [00:00<00:00, 23.86it/s]"
     ]
    },
    {
     "name": "stdout",
     "output_type": "stream",
     "text": [
      "Seed: 18, Width: 2.9714, Coverage: 0.7443\n",
      "Seed: 19, Width: 2.9324, Coverage: 0.7400\n"
     ]
    },
    {
     "name": "stderr",
     "output_type": "stream",
     "text": [
      "Running experiments:  70%|███████   | 21/30 [00:00<00:00, 23.53it/s]"
     ]
    },
    {
     "name": "stdout",
     "output_type": "stream",
     "text": [
      "Seed: 20, Width: 2.9533, Coverage: 0.7314\n",
      "Seed: 21, Width: 2.9652, Coverage: 0.7386\n",
      "Seed: 22, Width: 2.9314, Coverage: 0.7171\n",
      "Seed: 23, Width: 2.9624, Coverage: 0.7257\n"
     ]
    },
    {
     "name": "stderr",
     "output_type": "stream",
     "text": [
      "Running experiments:  80%|████████  | 24/30 [00:01<00:00, 23.61it/s]"
     ]
    },
    {
     "name": "stdout",
     "output_type": "stream",
     "text": [
      "Seed: 24, Width: 2.9405, Coverage: 0.7229\n"
     ]
    },
    {
     "name": "stderr",
     "output_type": "stream",
     "text": [
      "Running experiments:  90%|█████████ | 27/30 [00:01<00:00, 23.79it/s]"
     ]
    },
    {
     "name": "stdout",
     "output_type": "stream",
     "text": [
      "Seed: 25, Width: 2.9390, Coverage: 0.7400\n",
      "Seed: 26, Width: 2.9548, Coverage: 0.7243\n",
      "Seed: 27, Width: 2.9290, Coverage: 0.7086\n",
      "Seed: 28, Width: 2.9433, Coverage: 0.7271\n",
      "Seed: 29, Width: 2.9276, Coverage: 0.7357\n"
     ]
    },
    {
     "name": "stderr",
     "output_type": "stream",
     "text": [
      "Running experiments: 100%|██████████| 30/30 [00:01<00:00, 23.72it/s]\n"
     ]
    },
    {
     "name": "stdout",
     "output_type": "stream",
     "text": [
      "Seed: 30, Width: 2.9519, Coverage: 0.7386\n",
      "\n",
      "Summary of Ordinal APS:\n",
      "Width: 2.9461, 0.0193\n",
      "Coverage: 0.7287, 0.0101\n"
     ]
    },
    {
     "name": "stderr",
     "output_type": "stream",
     "text": [
      "Running experiments:   7%|▋         | 2/30 [00:00<00:01, 16.49it/s]"
     ]
    },
    {
     "name": "stdout",
     "output_type": "stream",
     "text": [
      "Seed: 1, Width: 2.8819, Coverage: 0.9014\n",
      "Seed: 2, Width: 2.7705, Coverage: 0.8743\n",
      "Seed: 3, Width: 2.8438, Coverage: 0.9014\n"
     ]
    },
    {
     "name": "stderr",
     "output_type": "stream",
     "text": [
      "Running experiments:  13%|█▎        | 4/30 [00:00<00:01, 17.36it/s]"
     ]
    },
    {
     "name": "stdout",
     "output_type": "stream",
     "text": [
      "Seed: 4, Width: 2.8957, Coverage: 0.9243\n"
     ]
    },
    {
     "name": "stderr",
     "output_type": "stream",
     "text": [
      "Running experiments:  20%|██        | 6/30 [00:00<00:01, 17.07it/s]"
     ]
    },
    {
     "name": "stdout",
     "output_type": "stream",
     "text": [
      "Seed: 5, Width: 2.9119, Coverage: 0.9086\n",
      "Seed: 6, Width: 2.7838, Coverage: 0.8786\n",
      "Seed: 7, Width: 2.7948, Coverage: 0.8929\n"
     ]
    },
    {
     "name": "stderr",
     "output_type": "stream",
     "text": [
      "Running experiments:  33%|███▎      | 10/30 [00:00<00:01, 16.55it/s]"
     ]
    },
    {
     "name": "stdout",
     "output_type": "stream",
     "text": [
      "Seed: 8, Width: 2.8419, Coverage: 0.8943\n",
      "Seed: 9, Width: 2.8376, Coverage: 0.8900\n",
      "Seed: 10, Width: 2.8257, Coverage: 0.8900\n",
      "Seed: 11, Width: 2.8029, Coverage: 0.8843\n"
     ]
    },
    {
     "name": "stderr",
     "output_type": "stream",
     "text": [
      "Running experiments:  47%|████▋     | 14/30 [00:00<00:00, 17.25it/s]"
     ]
    },
    {
     "name": "stdout",
     "output_type": "stream",
     "text": [
      "Seed: 12, Width: 2.8386, Coverage: 0.8929\n",
      "Seed: 13, Width: 2.9100, Coverage: 0.9200\n",
      "Seed: 14, Width: 2.8643, Coverage: 0.9029\n",
      "Seed: 15, Width: 2.8067, Coverage: 0.8886\n"
     ]
    },
    {
     "name": "stderr",
     "output_type": "stream",
     "text": [
      "Running experiments:  60%|██████    | 18/30 [00:01<00:00, 16.30it/s]"
     ]
    },
    {
     "name": "stdout",
     "output_type": "stream",
     "text": [
      "Seed: 16, Width: 2.8133, Coverage: 0.8786\n",
      "Seed: 17, Width: 2.7076, Coverage: 0.8529\n",
      "Seed: 18, Width: 2.8586, Coverage: 0.9071\n",
      "Seed: 19, Width: 2.8710, Coverage: 0.9114\n"
     ]
    },
    {
     "name": "stderr",
     "output_type": "stream",
     "text": [
      "Running experiments:  73%|███████▎  | 22/30 [00:01<00:00, 16.48it/s]"
     ]
    },
    {
     "name": "stdout",
     "output_type": "stream",
     "text": [
      "Seed: 20, Width: 2.8971, Coverage: 0.9086\n",
      "Seed: 21, Width: 2.7762, Coverage: 0.8771\n",
      "Seed: 22, Width: 2.8400, Coverage: 0.8814\n"
     ]
    },
    {
     "name": "stderr",
     "output_type": "stream",
     "text": [
      "Running experiments:  80%|████████  | 24/30 [00:01<00:00, 16.09it/s]"
     ]
    },
    {
     "name": "stdout",
     "output_type": "stream",
     "text": [
      "Seed: 23, Width: 2.7381, Coverage: 0.8614\n",
      "Seed: 24, Width: 2.8481, Coverage: 0.8857\n",
      "Seed: 25, Width: 2.7676, Coverage: 0.8671\n",
      "Seed: 26, Width: 2.8519, Coverage: 0.9000\n"
     ]
    },
    {
     "name": "stderr",
     "output_type": "stream",
     "text": [
      "Running experiments: 100%|██████████| 30/30 [00:01<00:00, 16.57it/s]"
     ]
    },
    {
     "name": "stdout",
     "output_type": "stream",
     "text": [
      "Seed: 27, Width: 2.8333, Coverage: 0.8943\n",
      "Seed: 28, Width: 2.8067, Coverage: 0.8843\n",
      "Seed: 29, Width: 2.8195, Coverage: 0.8986\n",
      "Seed: 30, Width: 2.9071, Coverage: 0.9271\n",
      "\n",
      "Summary of Ordinal APS:\n",
      "Width: 2.8315, 0.0500\n",
      "Coverage: 0.8927, 0.0172\n"
     ]
    },
    {
     "name": "stderr",
     "output_type": "stream",
     "text": [
      "\n"
     ]
    }
   ],
   "source": [
    "import os\n",
    "import pandas as pd\n",
    "\n",
    "folder_path = f'./model_logits/qwen/'\n",
    "dataset = 'Dialsumm'\n",
    "data = {}\n",
    "for dimension in [\"consistency\", \"coherence\", \"fluency\", \"relevance\"]:\n",
    "        file_path = os.path.join(folder_path, f\"{dataset}_{dimension}_logits.csv\")\n",
    "        df = pd.read_csv(file_path)\n",
    "        X = df.iloc[:, :-1]\n",
    "        y = df.iloc[:, -1]\n",
    "        width, coverage = calculate_statistics(X, y, num_runs=30, seed_start=1, dimension=dimension, dataset=dataset)\n",
    "\n"
   ]
  },
  {
   "cell_type": "code",
   "execution_count": null,
   "metadata": {},
   "outputs": [],
   "source": [
    "# import os\n",
    "# import pandas as pd\n",
    "\n",
    "# folder_path = f'./model_logits/qwen/'\n",
    "\n",
    "# data = {}\n",
    "# for dimension in [\"cosmos\", \"drop\", \"esnli\", \"gsm8k\"]:\n",
    "#         file_path = os.path.join(folder_path, f\"SocREval_{dimension}_logits.csv\")\n",
    "#         df = pd.read_csv(file_path)\n",
    "#         X = df.iloc[:, :-1]\n",
    "#         y = df.iloc[:, -1]\n",
    "#         width, coverage = calculate_statistics(X, y, num_runs=30, seed_start=1, dimension=dimension, dataset='SocREval')\n",
    "\n"
   ]
  }
 ],
 "metadata": {
  "kernelspec": {
   "display_name": "Python 3",
   "language": "python",
   "name": "python3"
  },
  "language_info": {
   "codemirror_mode": {
    "name": "ipython",
    "version": 3
   },
   "file_extension": ".py",
   "mimetype": "text/x-python",
   "name": "python",
   "nbconvert_exporter": "python",
   "pygments_lexer": "ipython3",
   "version": "3.11.9"
  }
 },
 "nbformat": 4,
 "nbformat_minor": 2
}
